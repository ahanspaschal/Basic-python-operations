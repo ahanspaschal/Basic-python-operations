{
 "cells": [
  {
   "cell_type": "markdown",
   "id": "cd55d6d3",
   "metadata": {},
   "source": [
    "user_input"
   ]
  },
  {
   "cell_type": "code",
   "execution_count": 7,
   "id": "afb53980",
   "metadata": {},
   "outputs": [
    {
     "name": "stdout",
     "output_type": "stream",
     "text": [
      "What is your name human?Paschal\n",
      "How old are you(in years)?32\n",
      "How tall are you(in meters)?1.6\n",
      "what is your weight(in kg)?52\n",
      "Paschal you are 36 years and your BMI is 20.312500\n"
     ]
    }
   ],
   "source": [
    "#Ask to enter their name\n",
    "\n",
    "name = input(\"What is your name human?\")\n",
    "\n",
    "age = int(input(\"How old are you(in years)?\"))\n",
    "\n",
    "height = float(input(\"How tall are you(in meters)?\"))\n",
    "               \n",
    "weight = float(input(\"what is your weight(in kg)?\"))  \n",
    "\n",
    "bmi = weight/(height**2)\n",
    "\n",
    "print(f\"{name} you are {36} years and your BMI is {bmi:2f}\")"
   ]
  },
  {
   "cell_type": "code",
   "execution_count": null,
   "id": "b6573e5d",
   "metadata": {},
   "outputs": [],
   "source": []
  },
  {
   "cell_type": "code",
   "execution_count": null,
   "id": "67a46237",
   "metadata": {},
   "outputs": [],
   "source": []
  }
 ],
 "metadata": {
  "kernelspec": {
   "display_name": "Python 3 (ipykernel)",
   "language": "python",
   "name": "python3"
  },
  "language_info": {
   "codemirror_mode": {
    "name": "ipython",
    "version": 3
   },
   "file_extension": ".py",
   "mimetype": "text/x-python",
   "name": "python",
   "nbconvert_exporter": "python",
   "pygments_lexer": "ipython3",
   "version": "3.9.7"
  }
 },
 "nbformat": 4,
 "nbformat_minor": 5
}
