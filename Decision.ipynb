{
 "cells": [
  {
   "cell_type": "markdown",
   "id": "dfb90ff3",
   "metadata": {},
   "source": [
    "Beep's abilities are developing really quickly. Beep requires guidance on what activities to complete to enhance its learning. If the activity is \"calculate\" then the message \"Performing calculations...\" should be displayed otherwise the message \"Performing activity...\" should be displayed. Finally, the program should display \"Activity completed!\"."
   ]
  },
  {
   "cell_type": "code",
   "execution_count": 3,
   "id": "cb471da6",
   "metadata": {},
   "outputs": [
    {
     "name": "stdout",
     "output_type": "stream",
     "text": [
      "Please enter an activity to be performed: calculation\n",
      "Performing activity...\n",
      "activity completed!\n"
     ]
    }
   ],
   "source": [
    "#Retrieving data from user\n",
    "\n",
    "user_input = input(\"Please enter an activity to be performed: \").lower()\n",
    "\n",
    "\n",
    "#Taking action with user data\n",
    "\n",
    "if user_input == \"calculate\":\n",
    "    print(\"performing calculations...\")\n",
    "    \n",
    "else: \n",
    "    print(\"Performing activity...\")\n",
    "    \n",
    "print(\"activity completed!\")\n",
    "    \n",
    "    "
   ]
  },
  {
   "cell_type": "markdown",
   "id": "1a07774a",
   "metadata": {},
   "source": [
    "The program should start by prompting the user for a direction to move the paint brush (up, down, left or right).\n",
    "The program should then work out in which direction Beep should paint and display a suitable message."
   ]
  },
  {
   "cell_type": "code",
   "execution_count": 14,
   "id": "04b4e224",
   "metadata": {},
   "outputs": [
    {
     "name": "stdout",
     "output_type": "stream",
     "text": [
      "Which direction should I paint(up, down, left or right)?right\n",
      "I am painting in the rightward direction!\n"
     ]
    }
   ],
   "source": [
    "#Retrieving data from user\n",
    "\n",
    "user_choice = input(\"Which direction should I paint(up, down, left or right)?\").lower()\n",
    "\n",
    "#Taking action with user data\n",
    "\n",
    "if user_choice == \"up\":\n",
    "    print(\"I am painting in the upward direction!\")\n",
    "elif user_choice == \"down\":\n",
    "    print(\"I am painting in the downward direction!\")\n",
    "    \n",
    "elif user_choice == \"left\":\n",
    "    print(\"I am painting in the leftward direction!\")\n",
    "        \n",
    "else:\n",
    "    print(\"I am painting in the rightward direction!\")"
   ]
  },
  {
   "cell_type": "markdown",
   "id": "1e7f138f",
   "metadata": {},
   "source": [
    "The program should start by prompting the user to enter a whole number.\n",
    "The program should then work out if the number is even or odd.\n",
    "Finally, the program should display a suitable message to indicate if the number is even or odd.\n"
   ]
  },
  {
   "cell_type": "code",
   "execution_count": 21,
   "id": "be745994",
   "metadata": {},
   "outputs": [
    {
     "name": "stdout",
     "output_type": "stream",
     "text": [
      "Please enter a whole number:10\n",
      "10 is an even number\n"
     ]
    }
   ],
   "source": [
    "#Retrieving data from user\n",
    "\n",
    "num = int(input(\"Please enter a whole number:\"))\n",
    "\n",
    "if num%2 == 0:\n",
    "    print(f\"{num} is an even number\")\n",
    "    \n",
    "else:\n",
    "    print(f\"{num} is an odd number\")"
   ]
  },
  {
   "cell_type": "markdown",
   "id": "777861ae",
   "metadata": {},
   "source": [
    "Beep is learning about mathematical operators. Beep wishes to understand comparison operators by being able to identify the smallest of two numbers."
   ]
  },
  {
   "cell_type": "code",
   "execution_count": 1,
   "id": "b816f36a",
   "metadata": {},
   "outputs": [
    {
     "name": "stdout",
     "output_type": "stream",
     "text": [
      "Please enter first number: 5\n",
      "Please enter second number: 5\n",
      "Both numbers are equal\n"
     ]
    }
   ],
   "source": [
    "#Retrieving data from user\n",
    "\n",
    "Num1 = float(input(\"Please enter first number: \"))\n",
    "\n",
    "Num2 = float(input(\"Please enter second number: \"))\n",
    "\n",
    "if Num1 > Num2:\n",
    "    print(\"The second number is the smallest\")\n",
    "          \n",
    "elif Num1 < Num2:\n",
    "    print(\"The first number is the smallest\")\n",
    "    \n",
    "else:\n",
    "    print(\"Both numbers are equal\")"
   ]
  },
  {
   "cell_type": "code",
   "execution_count": null,
   "id": "22bfff42",
   "metadata": {},
   "outputs": [],
   "source": []
  },
  {
   "cell_type": "code",
   "execution_count": null,
   "id": "1914f586",
   "metadata": {},
   "outputs": [],
   "source": []
  }
 ],
 "metadata": {
  "kernelspec": {
   "display_name": "COM728",
   "language": "python",
   "name": "com728"
  },
  "language_info": {
   "codemirror_mode": {
    "name": "ipython",
    "version": 3
   },
   "file_extension": ".py",
   "mimetype": "text/x-python",
   "name": "python",
   "nbconvert_exporter": "python",
   "pygments_lexer": "ipython3",
   "version": "3.9.7"
  }
 },
 "nbformat": 4,
 "nbformat_minor": 5
}
