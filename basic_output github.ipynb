{
 "cells": [
  {
   "cell_type": "markdown",
   "id": "04e47cce",
   "metadata": {},
   "source": [
    "A robot lays abandoned in a junk yard.  Broken and with barely enough battery life to sustain its systems.  A broken name tag is found near the robot.  The name tag reads Beep. Let us consider a simple example where we wish to create a program to represent the output from our robot, Beep. The program should display a simple message \"System Failure Imminent!\" to the screen."
   ]
  },
  {
   "cell_type": "code",
   "execution_count": 17,
   "id": "b5ea840a",
   "metadata": {},
   "outputs": [
    {
     "name": "stdout",
     "output_type": "stream",
     "text": [
      "System Failure Imminent!\n"
     ]
    }
   ],
   "source": [
    "#Display message to the standard output\n",
    "print(\"System Failure Imminent!\")\n"
   ]
  },
  {
   "cell_type": "code",
   "execution_count": null,
   "id": "5b42fbca",
   "metadata": {},
   "outputs": [],
   "source": []
  },
  {
   "cell_type": "markdown",
   "id": "96ddc505",
   "metadata": {},
   "source": [
    "Beep is badly damaged but much of its systems seem to be intact. The hardware can be repaired using parts sourced from the junk yard but a system reboot will be required to further assess the extent of damage. Let us consider a simple example where we wish to extend our previous program so that it additionally displays the message \"System reboot has been initiated...\" to the screen on a new line."
   ]
  },
  {
   "cell_type": "code",
   "execution_count": 1,
   "id": "5b081d90",
   "metadata": {},
   "outputs": [
    {
     "name": "stdout",
     "output_type": "stream",
     "text": [
      "System Failure Imminent!\n",
      "System reboot has been initiated...\n",
      "\n",
      "\n",
      "...rebooting sensory system\n",
      "...rebooting output motors\n",
      "...rebooting hover engine\n",
      "\n",
      "\n",
      "System online.\n"
     ]
    }
   ],
   "source": [
    "#Display message to the standard output\n",
    "print(\"System Failure Imminent!\")\n",
    "print(\"System reboot has been initiated...\")\n",
    "print()\n",
    "print()\n",
    "print(\"...rebooting sensory system\")\n",
    "print(\"...rebooting output motors\")\n",
    "print(\"...rebooting hover engine\")\n",
    "print()\n",
    "print()\n",
    "print(\"System online.\")"
   ]
  }
 ],
 "metadata": {
  "kernelspec": {
   "display_name": "Python 3 (ipykernel)",
   "language": "python",
   "name": "python3"
  },
  "language_info": {
   "codemirror_mode": {
    "name": "ipython",
    "version": 3
   },
   "file_extension": ".py",
   "mimetype": "text/x-python",
   "name": "python",
   "nbconvert_exporter": "python",
   "pygments_lexer": "ipython3",
   "version": "3.9.7"
  }
 },
 "nbformat": 4,
 "nbformat_minor": 5
}
